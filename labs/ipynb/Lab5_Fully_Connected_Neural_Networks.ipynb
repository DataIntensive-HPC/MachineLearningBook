{
 "cells": [
  {
   "cell_type": "markdown",
   "metadata": {
    "id": "Vxv_saeDbyUH"
   },
   "source": [
    "# **Lab 5: Fully Connected Neural Networks**\n",
    "\n",
    "---\n",
    "NOTE: This is a lab project accompanying the following book [MLF] and it should be used together with the book.\n",
    "\n",
    "[MLF] *H. Jiang*, \"[Machine Learning Fundamentals: A Concise Introduction](http://wiki.eecs.yorku.ca/user/hj/research:mlfbook)\", Cambridge University Press, 2021.  ([bibtex](http://www.cse.yorku.ca/~hj/mlf-jiang.bib))\n",
    "\n",
    "---"
   ]
  },
  {
   "cell_type": "markdown",
   "metadata": {
    "id": "sC6-DExLb8L7"
   },
   "source": [
    "The purpose of this lab is to study various methods to implement fully-connected neural networks (FCNNs) for pattern classification problems. First, we show how to use the MLP implementation from *scikit-learn* to build FCNN classifiers. Second, we will show how to use *numpy* to implement FCNNs from scratch based on the derived formula to compute both forward and backward passes. As training processes of large neural networks are typically very time-consuming on CPUs, furthermore, we will show how to use *JAX* to repalce all *numpy* functions so as to run on GPUs. By doing so, we can see that the training speed of neural networks can be signicantly accelerated. Finally, we will show how to use the automatic differetiation (AD) functions available in *JAX* to re-implement FCNNs. In this case, we do not need to worry about how to compute gradients in our program because *jax.grad* will automatically derive gradients according to an objective function that is defined based on the model structure and learning criterion. As we can see, this can dramatically reduce our development efforts in implementing many machine learning models since we only need to define the forward pass of a model, and the model can be learned based on the automatically derived gradients from *jax.grad*.\n",
    "\n",
    "\n",
    "Prerequisites: basic understanding on JAX, including *jax.numpy* and *jax.grad*."
   ]
  },
  {
   "cell_type": "markdown",
   "metadata": {
    "id": "fNdLgww8cJ2F"
   },
   "source": [
    "## **I. Neural networks from scikit-learn**"
   ]
  },
  {
   "cell_type": "markdown",
   "metadata": {
    "id": "fjk6HU6Ortvv"
   },
   "source": [
    "### **Example 5.1:**\n",
    "\n",
    "*Use the neural network implementation from scikit-learn, i.e. MLPClassifier, to build a classifier to recognize all ten digits in the MNIST data set. Investigate the best architecture for the fully connected neural networks (i.e., number of hidden layers and number of hidden nodes per layer) for this task, and fine-tune all hyper-parameters in the SGD optimizer towards the best possible performance.*\n"
   ]
  },
  {
   "cell_type": "code",
   "execution_count": 36,
   "metadata": {
    "colab": {
     "base_uri": "https://localhost:8080/"
    },
    "id": "KH0kWSk_pywk",
    "outputId": "23f0c28c-adfc-4d34-97fe-abc0df295f29"
   },
   "outputs": [
    {
     "name": "stdout",
     "output_type": "stream",
     "text": [
      "Drive already mounted at /content/drive; to attempt to forcibly remount, call drive.mount(\"/content/drive\", force_remount=True).\n"
     ]
    }
   ],
   "source": [
    "#link my Google drive\n",
    "\n",
    "from google.colab import drive\n",
    "drive.mount('/content/drive')"
   ]
  },
  {
   "cell_type": "code",
   "execution_count": 37,
   "metadata": {
    "colab": {
     "base_uri": "https://localhost:8080/"
    },
    "id": "Fupbz3a-p2zy",
    "outputId": "83f54345-19b5-4722-81a7-5c7c21cfab29"
   },
   "outputs": [
    {
     "name": "stdout",
     "output_type": "stream",
     "text": [
      "Requirement already satisfied: python_mnist in /usr/local/lib/python3.7/dist-packages (0.7)\n"
     ]
    }
   ],
   "source": [
    "# install python_mnist\n",
    "\n",
    "!pip install python_mnist"
   ]
  },
  {
   "cell_type": "code",
   "execution_count": 38,
   "metadata": {
    "colab": {
     "base_uri": "https://localhost:8080/"
    },
    "id": "tdwEWWClp5l4",
    "outputId": "172bec9d-aff0-4af6-afc8-5048170544bc"
   },
   "outputs": [
    {
     "name": "stdout",
     "output_type": "stream",
     "text": [
      "(60000, 784) (60000,) (10000, 784) (10000,) (60000, 10)\n"
     ]
    }
   ],
   "source": [
    "#load MINST images\n",
    "\n",
    "from mnist import MNIST\n",
    "import numpy as np\n",
    "\n",
    "mnist_loader = MNIST('/content/drive/My Drive/Colab Notebooks/datasets/MNIST')\n",
    "train_data, train_label = mnist_loader.load_training()\n",
    "test_data, test_label = mnist_loader.load_testing()\n",
    "X_train = np.array(train_data, dtype='float')/255.0 # norm to [0,1]\n",
    "y_train = np.array(train_label, dtype='short')\n",
    "X_test = np.array(test_data, dtype='float')/255.0 # norm to [0,1]\n",
    "y_test = np.array(test_label, dtype='short')\n",
    "\n",
    "# convert MNIST training labels into 10-D one-hot vectors \n",
    "Y_train = np.zeros((y_train.size, y_train.max()+1))\n",
    "Y_train[np.arange(y_train.size),y_train] = 1\n",
    "\n",
    "print(X_train.shape, y_train.shape, X_test.shape, y_test.shape, Y_train.shape)"
   ]
  },
  {
   "cell_type": "code",
   "execution_count": null,
   "metadata": {
    "colab": {
     "base_uri": "https://localhost:8080/"
    },
    "id": "MzlXRoWcmryw",
    "outputId": "9938e2e3-9f33-4963-8828-d99545eb70e5"
   },
   "outputs": [
    {
     "name": "stdout",
     "output_type": "stream",
     "text": [
      "Iteration 1, loss = 0.24301987\n",
      "Iteration 2, loss = 0.08595058\n",
      "Iteration 3, loss = 0.05706552\n",
      "Iteration 4, loss = 0.03962371\n",
      "Iteration 5, loss = 0.02908247\n",
      "Iteration 6, loss = 0.01994459\n",
      "Iteration 7, loss = 0.01544610\n",
      "Iteration 8, loss = 0.01387832\n",
      "Iteration 9, loss = 0.00784194\n",
      "Iteration 10, loss = 0.00540533\n",
      "Iteration 11, loss = 0.00432002\n",
      "Iteration 12, loss = 0.00172743\n",
      "Iteration 13, loss = 0.00105620\n",
      "Iteration 14, loss = 0.00099268\n",
      "Iteration 15, loss = 0.00071931\n",
      "Iteration 16, loss = 0.00064104\n",
      "Iteration 17, loss = 0.00060419\n",
      "Iteration 18, loss = 0.00058721\n",
      "Iteration 19, loss = 0.00057276\n",
      "Iteration 20, loss = 0.00055686\n"
     ]
    },
    {
     "name": "stderr",
     "output_type": "stream",
     "text": [
      "/usr/local/lib/python3.7/dist-packages/sklearn/neural_network/_multilayer_perceptron.py:696: ConvergenceWarning: Stochastic Optimizer: Maximum iterations (20) reached and the optimization hasn't converged yet.\n",
      "  ConvergenceWarning,\n"
     ]
    },
    {
     "name": "stdout",
     "output_type": "stream",
     "text": [
      "Training set score: 1.000\n",
      "Test set score: 0.985\n"
     ]
    }
   ],
   "source": [
    "# build 10-digit classifer using MLPClassifier from scikit-learn\n",
    "\n",
    "from sklearn.neural_network import MLPClassifier\n",
    "\n",
    "# here are all hyper-parameters for MLPClassifier\n",
    "#\n",
    "mlp = MLPClassifier(activation='relu', alpha=0.0001, batch_size='auto', beta_1=0.9,\n",
    "              beta_2=0.999, early_stopping=False, epsilon=1e-08,\n",
    "              hidden_layer_sizes=(500,250), learning_rate='constant',\n",
    "              learning_rate_init=0.1, max_fun=15000, max_iter=20, momentum=0.9,\n",
    "              n_iter_no_change=10, nesterovs_momentum=True, power_t=0.5,\n",
    "              random_state=1, shuffle=True, solver='sgd', tol=0.0001,\n",
    "              validation_fraction=0.1, verbose=10, warm_start=False)\n",
    "\n",
    "mlp.fit(X_train, y_train)\n",
    "\n",
    "print(f\"Training set score: {mlp.score(X_train, y_train):.3f}\")\n",
    "print(f\"Test set score: {mlp.score(X_test, y_test):.3f}\")"
   ]
  },
  {
   "cell_type": "markdown",
   "metadata": {
    "id": "XI5eMDNNcSlA"
   },
   "source": [
    "## **II. Fully Connected Neural Networks**"
   ]
  },
  {
   "cell_type": "markdown",
   "metadata": {
    "id": "mV_6L86Ivt0u"
   },
   "source": [
    "### **Example 5.2:**\n",
    "\n",
    "*Implement your own fully connected neural networks from scratch. Use the stochastic gradient descent (SGD) to implement the error-backpropagation learning algorithm.  Use your implementation to build a classifier to recognize all ten digits in the MNIST data set. Compare your own implementation with that of scikit-learn in terms of accuracy and running speed.* "
   ]
  },
  {
   "cell_type": "markdown",
   "metadata": {
    "id": "maCaYnTzcT3M"
   },
   "source": [
    "In this implementation, we strictly follow the description and derived formula of FCNNs in [MLF]. In other words, we implement the mini-batch SGD in Algorithm 8.8 for model updating, and the forward pass on page 166 and backward pass on page 188 to compute gradients for model parameters. \n",
    "\n",
    "In our implementation, we support a fexible way that uses a python list to specify any model structure for FCNNs. For example, besides an input layer  and an output layer whose sizes are determined by input and output dimensions, if we specify *'struct = [100]'*, it means one more hidden layer of 100 nodes is added in between.  Similarly, *'struct = [500, 300, 100]'* is meant to add three more hidden layers of 500, 300, 100 nodes at each layer. \n"
   ]
  },
  {
   "cell_type": "markdown",
   "metadata": {
    "id": "jsjCchgyh0x6"
   },
   "source": [
    "In the backward pass for a mini-batch, we need to compute many outer products for all vectors in each mini-batch. For example, in any hidden layer, we have error signals $\\{\\mathbf{e}_1, \\mathbf{e}_2, \\cdots,  \\mathbf{e}_{\\tiny B}\\}$ for all samples in the mini-batch, and their corresponding outputs from previous layer as  $\\{\\mathbf{z}_1, \\mathbf{z}_2, \\cdots,  \\mathbf{z}_{\\tiny B}\\}$, as shown in the backward pass on page 188, we need to compute the following outer  products :\n",
    "$$\n",
    "\\mathbf{e}_1 \\mathbf{z}_1^\\intercal, \\mathbf{e}_2 \\mathbf{z}_2^\\intercal, \\cdots, \\mathbf{e}_{\\tiny B} \\mathbf{z}_{\\tiny B}^\\intercal\n",
    "$$\n",
    "\n",
    "In order to compute these outer products via vectorization, we use a handy method in *numpy*, i.e. [the Einstein summation](https://numpy.org/doc/stable/reference/generated/numpy.einsum.html). If we pack all error signals row by row as a $B \\times O$ matrix $\\mathbf{E}$, and outputs row by row as a $B \\times I$ matrix $\\mathbf{Z}$, the above outer products can be computed by one line of vectorized codes as follows:\n",
    "```\n",
    "numpy.einsum('bo,bi->bio', E, Z)\n",
    "```\n"
   ]
  },
  {
   "cell_type": "code",
   "execution_count": null,
   "metadata": {
    "id": "ExKffDi12Onm"
   },
   "outputs": [],
   "source": [
    "# use numpy to implement fully-connected neural networks with mini-batch SGD \n",
    "import numpy as np\n",
    "\n",
    "# ReLU activation function\n",
    "def relu(x):\n",
    "  return np.maximum(x, 0) \n",
    "\n",
    "# column-wise softmax\n",
    "# X[N,d]: softmax over d\n",
    "def softmax(X):\n",
    "  m = X.max(axis=1)\n",
    "  return np.transpose(np.exp(X.T-m)/np.sum(np.exp(X.T-m), axis=0))\n",
    "\n",
    "class myMLP1():\n",
    "  def __init__(self, optimizer='sgd', debug=0, struct=[], activation='relu',\\\n",
    "               loss='ce', lr=1.0, max_epochs=10, batch_size=10, random_state=1,\\\n",
    "               init_range=1.0, annealing=1.0):\n",
    "    self.optimizer = optimizer     # which optimizer is used to learn\n",
    "    self.lr = lr                   # initial learning rate in SGD\n",
    "    self.annealing = annealing     # annealing rate in SGD\n",
    "    self.max_epochs = max_epochs   # max epochs in optimization \n",
    "    self.batch_size = batch_size   # mini-batch size in SGD\n",
    "    self.debug = debug             # whether print debugging info\n",
    "    self.activation=activation     # activation function \n",
    "    self.loss = loss               # the loss used for training objective \n",
    "    self.random_state=random_state # random state\n",
    "    self.init_range=init_range     # range for initializing weights \n",
    "\n",
    "    self.struct = struct           # network structure: e.g. [100], [500, 200], \n",
    "                                   #                         [100,100,100]\n",
    " \n",
    "  # initialize internal struct/variables for input/output \n",
    "  # X[N,d]: input features; Y[N,K]: 1-of-K one-hot vectors for output targets \n",
    "  def initialization(self, X, Y):\n",
    "    np.random.seed(self.random_state)\n",
    "\n",
    "    input = X.shape[1]                # input dimension \n",
    "    self.layers = len(self.struct)    # number of hidden layers \n",
    "    self.W = [0]*(self.layers+1)      # list for all weight matrices\n",
    "    self.b = [0]*(self.layers+1)      # list for all bias vectors \n",
    "    self.W_grad = [0]*(self.layers+1) # list for weight gradients\n",
    "    self.b_grad = [0]*(self.layers+1) # list for bias gradients \n",
    "\n",
    "    # create weight matrices for all hidden layers \n",
    "    for l in range(self.layers):  \n",
    "      output = self.struct[l]\n",
    "      self.W[l] = 4.90*(np.random.rand(input, output)-0.5)*self.init_range/np.sqrt(output+input)\n",
    "      self.b[l] = np.zeros(output)\n",
    "      self.W_grad[l] = np.random.rand(input, output)\n",
    "      self.b_grad[l] = np.zeros(output)\n",
    "      input = output \n",
    "\n",
    "    # create weight matrix for output layer\n",
    "    output = Y.shape[1]\n",
    "    self.W[self.layers] = 4.90*(np.random.rand(input, output)-0.5)*self.init_range/np.sqrt(output+input)\n",
    "    self.b[self.layers] = np.zeros(output)\n",
    "    self.W_grad[self.layers] = np.random.rand(input, output)\n",
    "    self.b_grad[self.layers] = np.zeros(output)\n",
    "\n",
    "    return\n",
    "\n",
    "  # forward pass to compute outputs for a mini-batch X\n",
    "  # if return_Z=True, also save all hidden acivation \n",
    "  # (refer to the box on page 166)\n",
    "  # input =>  X[B,d]: a batch of input vectors\n",
    "  # if return_Z=False, return only y[B,K]\n",
    "  # otherwise, return activations for all layers (including hidden layers) \n",
    "  def forward(self, X, return_Z=False):\n",
    "    # list to save all hidden nodes' activation values \n",
    "    if (return_Z):\n",
    "      Zs = [0] * (self.layers+2)\n",
    "    else:\n",
    "      Zs = [0]\n",
    "\n",
    "    Z = X\n",
    "    if(return_Z):\n",
    "        Zs[0] = Z\n",
    "    # forward pass from all hidden layers\n",
    "    for l in range(self.layers): \n",
    "      Z = relu(Z @ self.W[l]  + self.b[l])\n",
    "      if(return_Z):\n",
    "        Zs[l+1] = Z\n",
    "\n",
    "    #forward pass for output layer\n",
    "    l = self.layers\n",
    "    y = softmax(Z @ self.W[l] + self.b[l])\n",
    "    if (return_Z):\n",
    "      Zs[l+1] = y\n",
    "    else:\n",
    "      Zs[0] = y\n",
    "    \n",
    "    return Zs\n",
    "\n",
    "  # backward pass to compute gradients for a mini-batch of inputs X and targets Y\n",
    "  # Zs: list of all hidden acivation values (pre-computed by a forward pass)\n",
    "  # return gradients of all weight matrices and bias vectors \n",
    "  # (refer to the box on page 188)\n",
    "  def backward(self, X, Y, Zs):\n",
    " \n",
    "    # output layer\n",
    "    l = len(Zs)-1\n",
    "    e = Zs[l] - Y  # error signals for output layer \n",
    "    WG = np.einsum('bo,bi->bio', e, Zs[l-1])\n",
    "    self.W_grad[l-1] = np.mean(WG,axis=0) \n",
    "    self.b_grad[l-1] = np.mean(e,axis=0)\n",
    "\n",
    "    # backward for all hidden layers\n",
    "    for l in range(self.layers,0,-1):\n",
    "      e = ( e @ self.W[l].T ) * np.heaviside(Zs[l],0) \n",
    "      WG = np.einsum('bo,bi->bio', e, Zs[l-1])\n",
    "      self.W_grad[l-1] = np.mean(WG,axis=0)\n",
    "      self.b_grad[l-1] = np.mean(e,axis=0)\n",
    "\n",
    "    return self.W_grad, self.b_grad\n",
    "\n",
    "  # mini-batch SGD to update model parameters (Algorith 8.8 on page 189) \n",
    "  # X[N,d]: input feature vectors; Y[N,K]: one-hot output targets\n",
    "  def sgd(self, X, Y):\n",
    "    n = X.shape[0]            # number of samples\n",
    "\n",
    "    lr = self.lr\n",
    "    errorsA = np.zeros(self.max_epochs)\n",
    "    errorsC = np.zeros(self.max_epochs)\n",
    "\n",
    "    for epoch in range(self.max_epochs):\n",
    "      indices = np.random.permutation(n)  #randomly shuffle data indices\n",
    "      for batch_start in range(0, n, self.batch_size):\n",
    "        X_batch = X[indices[batch_start:batch_start + self.batch_size]]\n",
    "        Y_batch = Y[indices[batch_start:batch_start + self.batch_size]]\n",
    "\n",
    "        Zs = self.forward(X_batch, return_Z=True)\n",
    "\n",
    "        W_grad, b_grad = self.backward(X_batch, Y_batch, Zs)\n",
    "\n",
    "        for l in range(self.layers+1):\n",
    "          self.W[l] -= lr * W_grad[l]\n",
    "          self.b[l] -= lr * b_grad[l]\n",
    "\n",
    "      # plot all learning curves (A, B, C)\n",
    "      Z = self.forward(X, return_Z=False)\n",
    "      errorsC[epoch] = -np.mean (np.log(Z[0][Y==1]))\n",
    "\n",
    "      train_label = np.argmax(Y, axis=1)\n",
    "      train_res = np.argmax(Z[0], axis=1)\n",
    "      errorsA[epoch] = np.count_nonzero(np.equal(train_res,train_label))/train_label.size\n",
    "\n",
    "      if(self.debug):\n",
    "        print(f'epoch = {epoch} (lr={lr:.2}): C = {errorsC[epoch]:.5f}  A = {100*errorsA[epoch]:.2f}%')\n",
    "\n",
    "      lr *= self.annealing\n",
    "\n",
    "    return errorsA, errorsC\n",
    "\n",
    "  # X[N,d]: input feature vectors; Y[N,K]: one-hot output targets          \n",
    "  def fit(self, X, Y):\n",
    "\n",
    "    self.initialization(X, Y)\n",
    "\n",
    "    errorsA, errorsC = self.sgd(X, Y)\n",
    "\n",
    "    return errorsA, errorsC\n",
    "\n",
    "  # X[N,d]: input features;\n",
    "  # return: labels (NOT one-hot)\n",
    "  def predict(self, X):\n",
    "    Y = self.forward(X,return_Z=False)\n",
    "    return jnp.argmax(Y[0], axis=1)\n",
    "    "
   ]
  },
  {
   "cell_type": "code",
   "execution_count": 33,
   "metadata": {
    "colab": {
     "base_uri": "https://localhost:8080/",
     "height": 537
    },
    "id": "ZDCWf_t_JCrV",
    "outputId": "922a8701-dd68-4744-9771-591f93e74827"
   },
   "outputs": [
    {
     "name": "stdout",
     "output_type": "stream",
     "text": [
      "epoch = 0 (lr=0.1): C = 0.10536  A = 96.55%\n",
      "epoch = 1 (lr=0.09): C = 0.04953  A = 98.42%\n",
      "epoch = 2 (lr=0.081): C = 0.04733  A = 98.45%\n",
      "epoch = 3 (lr=0.073): C = 0.01478  A = 99.59%\n",
      "epoch = 4 (lr=0.066): C = 0.01039  A = 99.71%\n",
      "epoch = 5 (lr=0.059): C = 0.00591  A = 99.86%\n",
      "epoch = 6 (lr=0.053): C = 0.00259  A = 99.97%\n",
      "epoch = 7 (lr=0.048): C = 0.00130  A = 99.99%\n",
      "epoch = 8 (lr=0.043): C = 0.00081  A = 100.00%\n",
      "epoch = 9 (lr=0.039): C = 0.00059  A = 100.00%\n",
      "epoch = 10 (lr=0.035): C = 0.00052  A = 100.00%\n",
      "epoch = 11 (lr=0.031): C = 0.00045  A = 100.00%\n",
      "test accuracy = 98.50%\n"
     ]
    },
    {
     "data": {
      "text/plain": [
       "<matplotlib.legend.Legend at 0x7fd5c8e69890>"
      ]
     },
     "execution_count": 33,
     "metadata": {},
     "output_type": "execute_result"
    },
    {
     "data": {
      "image/png": "[encoded data removed]",
      "text/plain": [
       "<Figure size 432x288 with 2 Axes>"
      ]
     },
     "metadata": {
      "needs_background": "light"
     },
     "output_type": "display_data"
    }
   ],
   "source": [
    "import matplotlib.pyplot as plt\n",
    "\n",
    "mlp = myMLP1(struct=[500,250], debug=1, max_epochs=12, annealing=0.9, batch_size=10,lr=0.1)\n",
    "\n",
    "A, C = mlp.fit(X_train, Y_train)\n",
    "\n",
    "result = mlp.predict(X_test)\n",
    "test_acc =  100.0*jnp.count_nonzero(jnp.equal(result, y_test))/y_test.size\n",
    "print(f'test accuracy = {test_acc:.2f}%')\n",
    "\n",
    "fig, ax = plt.subplots(2)\n",
    "fig.suptitle('monitoring three learning curves (A, C)')\n",
    "ax[0].plot(C, 'b')\n",
    "ax[0].legend(['curve C'])\n",
    "\n",
    "ax[1].plot(A, 'r')\n",
    "ax[1].legend(['curve A'])"
   ]
  },
  {
   "cell_type": "markdown",
   "metadata": {
    "id": "1MWVP_cpcZAs"
   },
   "source": [
    "## **III. Running Neural Networks on GPUs**"
   ]
  },
  {
   "cell_type": "markdown",
   "metadata": {
    "id": "COqZFy-tWKye"
   },
   "source": [
    "### **Example 5.3:**\n",
    "\n",
    "*Re-implement the above fully connected neural networks using JAX so that we can run on GPUs for much faster training and testing speeds. Compare your JAX implementation with the above numpy codes in terms of classification accuracy and running speed.* "
   ]
  },
  {
   "cell_type": "markdown",
   "metadata": {
    "id": "isxyvjyGnAkR"
   },
   "source": [
    "*JAX* re-implements pretty much all *numpy* functions in its module *jax.numpy* and almost all *jax.numpy* functions adopt the same names and syntax as their *numpy* counterparts (with only a small number of exceptions).  Thus, it is straightforward to modify the above *numpy* codes into a JAX version by replacing all *numpy* functions with their *jax.numpy* counterparts. \n",
    "\n",
    "In this implementation, we have merged each weight matrix and its bias vector into a single matrix by expanding one more dimension of a constant '1' in its input vectors (as explained in the margin note on page 107). By doing so, we may be able to explore multiple GPU cores in a better way. "
   ]
  },
  {
   "cell_type": "code",
   "execution_count": null,
   "metadata": {
    "id": "rdHBIomvbxpT"
   },
   "outputs": [],
   "source": [
    "# implement fully-connected neural networks using JAX \n",
    "import numpy as np\n",
    "import jax.numpy as jnp\n",
    "import jax.nn as jnn\n",
    "from jax import random, device_put\n",
    "\n",
    "class myMLP2():\n",
    "  def __init__(self, optimizer='sgd', debug=0, struct=[], activation='relu',\\\n",
    "               loss='ce', lr=1.0, max_epochs=10, batch_size=10, random_state=1,\\\n",
    "               init_range=1.0, annealing=1.0):\n",
    "    self.optimizer = optimizer     # which optimizer is used to learn\n",
    "    self.lr = lr                   # initial learning rate in SGD\n",
    "    self.annealing = annealing     # annealing rate in SGD\n",
    "    self.max_epochs = max_epochs   # max epochs in optimization \n",
    "    self.batch_size = batch_size   # mini-batch size in SGD\n",
    "    self.debug = debug             # whether print debugging info\n",
    "    self.activation=activation     # activation function \n",
    "    self.loss = loss               # the loss used for training objective \n",
    "    self.random_state=random_state # random state\n",
    "    self.init_range=init_range     # range for initializing weights \n",
    "\n",
    "    self.struct = struct           # network structure: e.g. [100], [500, 200], \n",
    "                                   #                         [100,100,100]\n",
    " \n",
    "  # initialize internal struct/variables for input/output \n",
    "  # X[N,d]: input features; Y[N,K]: 1-of-K one-hot vectors for output targets \n",
    "  def initialization(self, X, Y):\n",
    "    key = random.PRNGKey(self.random_state)\n",
    "\n",
    "    input = X.shape[1]                # input dimension \n",
    "    self.layers = len(self.struct)    # number of hidden layers \n",
    "    self.W_b = [0]*(self.layers+1)      # list for all weight matrices\n",
    "    self.W_b_grad = [0]*(self.layers+1) # list for weight gradients\n",
    "\n",
    "    # create weight matrices for all hidden layers \n",
    "    for l in range(self.layers):  \n",
    "      output = self.struct[l]\n",
    "      self.W_b[l] = device_put(4.90*(random.uniform(key,(input+1, output))-0.5)*self.init_range/jnp.sqrt(output+input))\n",
    "      self.W_b_grad[l] = device_put(jnp.zeros((input+1, output)))\n",
    "      input = output \n",
    "\n",
    "    # create weight matrix for output layer\n",
    "    output = Y.shape[1]\n",
    "    self.W_b[self.layers] = device_put(4.90*(random.uniform(key,(input+1, output))-0.5)*self.init_range/jnp.sqrt(output+input))\n",
    "    self.W_b_grad[self.layers] = device_put(jnp.zeros((input+1, output)))\n",
    "\n",
    "    return\n",
    "\n",
    "  # forward pass to compute outputs for a mini-batch X\n",
    "  # if return_Z=True, also save all hidden acivation \n",
    "  # (refer to the box on page 166)\n",
    "  # input =>  X[B,d]: a batch of input vectors\n",
    "  # if return_Z=False, return only y[B,K]\n",
    "  # otherwise, return activations for all layers (including hidden layers) \n",
    "  def forward(self, W_b, X, return_Z=False):\n",
    "    # list to save all hidden nodes' activation values \n",
    "    if (return_Z):\n",
    "      Zs = [0] * (self.layers+2)\n",
    "    else:\n",
    "      Zs = [0]\n",
    "\n",
    "    # appending 1's to accomodate bias (see page 107)\n",
    "    Z = jnp.hstack((X,jnp.ones((X.shape[0],1),dtype=X.dtype)))\n",
    "    if(return_Z):\n",
    "        Zs[0] = Z\n",
    "    # forward pass from all hidden layers\n",
    "    for l in range(self.layers): \n",
    "      Z = jnn.relu(Z @ W_b[l])\n",
    "      Z = jnp.hstack((Z,jnp.ones((Z.shape[0],1),dtype=Z.dtype)))\n",
    "      if(return_Z):\n",
    "        Zs[l+1] = Z\n",
    "\n",
    "    #forward pass for output layer\n",
    "    l = self.layers\n",
    "    y = jnn.softmax(Z @ W_b[l], axis=1)\n",
    "    if (return_Z):\n",
    "      Zs[l+1] = y\n",
    "    else:\n",
    "      Zs[0] = y\n",
    "    \n",
    "    return Zs\n",
    "\n",
    "  # backward pass to compute gradients for a mini-batch of inputs X and targets Y\n",
    "  # Zs: list of all hidden acivation values (pre-computed in a forward pass)\n",
    "  # return gradients of all weight matrices and bias vectors \n",
    "  # (refer to the box on page 188)\n",
    "  def backward(self, X, Y, Zs):\n",
    " \n",
    "    # output layer\n",
    "    l = len(Zs)-1\n",
    "    e = Zs[l] - Y  # error signals for output layer \n",
    "    WG = jnp.einsum('bo,bi->bio', e, Zs[l-1])\n",
    "    self.W_b_grad[l-1] = jnp.mean(WG,axis=0) \n",
    "\n",
    "    # backward for all hidden layers\n",
    "    for l in range(self.layers,0,-1):\n",
    "      e = ( e @ self.W_b[l].T ) * jnp.heaviside(Zs[l],0)\n",
    "      e = jnp.delete(e, -1, axis=1) # remove the column related to contant '1'\n",
    "\n",
    "      WG = jnp.einsum('bo,bi->bio', e, Zs[l-1])\n",
    "      self.W_b_grad[l-1] = jnp.mean(WG,axis=0)\n",
    " \n",
    "    return \n",
    "\n",
    "  # compute the CE loss for a mini-batch\n",
    "  # W_b[ ]: list for all weight matrices\n",
    "  # X[B,d]: input features; \n",
    "  # Y[B,K]: 1-of-K one-hot vectors for output targets\n",
    "  def loss_ce_batch(self, W_b, X, Y):\n",
    "    R = self.forward(W_b, X, return_Z=False)\n",
    "\n",
    "    return -jnp.mean(jnp.log(R[0][Y==1]))\n",
    "\n",
    "  # mini-batch SGD to update model parameters (Algorith 8.8 on page 189) \n",
    "  # X[N,d]: input feature vectors; Y[N,K]: one-hot output targets\n",
    "  def sgd(self, X, Y):\n",
    "    n = X.shape[0]            # number of samples\n",
    "\n",
    "    lr = self.lr\n",
    "    errorsA = np.zeros(self.max_epochs)\n",
    "    errorsC = np.zeros(self.max_epochs)\n",
    "\n",
    "    for epoch in range(self.max_epochs):\n",
    "      indices = np.random.permutation(n)  #randomly shuffle data indices\n",
    "      for batch_start in range(0, n, self.batch_size):\n",
    "        X_batch = X[indices[batch_start:batch_start + self.batch_size]]\n",
    "        Y_batch = Y[indices[batch_start:batch_start + self.batch_size]]\n",
    "\n",
    "        Zs = self.forward(self.W_b, X_batch, return_Z=True)\n",
    "\n",
    "        self.backward(X_batch, Y_batch, Zs)\n",
    "\n",
    "        for l in range(self.layers+1):\n",
    "          self.W_b[l] -= lr * self.W_b_grad[l]\n",
    "          \n",
    "      # plot all learning curves (A and C)\n",
    "      errorsC[epoch] = self.loss_ce_batch(self.W_b, X, Y)\n",
    "\n",
    "      result = self.predict(X)\n",
    "      errorsA[epoch] =  jnp.count_nonzero(jnp.equal(result, y_train))/y_train.size\n",
    " \n",
    "      if(self.debug):\n",
    "        print(f'epoch = {epoch} (lr={lr:.2}): C = {errorsC[epoch]:.5f}  A = {100*errorsA[epoch]:.2f}%')\n",
    "\n",
    "      lr *= self.annealing\n",
    "\n",
    "    return errorsA, errorsC\n",
    "\n",
    " # X[N,d]: input feature vectors; Y[N,K]: one-hot output targets         \n",
    "  def fit(self, X, Y):\n",
    "\n",
    "    self.initialization(X, Y)\n",
    "\n",
    "    X2 = device_put(X)\n",
    "    Y2 = device_put(Y)\n",
    "\n",
    "    errorsA, errorsC = self.sgd(X2, Y2)\n",
    "\n",
    "    return errorsA, errorsC\n",
    "\n",
    "  # X[N,d]: input features;\n",
    "  # return: labels (NOT one-hot)\n",
    "  def predict(self, X):\n",
    "    X2 = device_put(X)\n",
    "    Y = self.forward(self.W_b, X2)\n",
    "    return jnp.argmax(Y[0], axis=1)\n",
    "    "
   ]
  },
  {
   "cell_type": "code",
   "execution_count": 28,
   "metadata": {
    "colab": {
     "base_uri": "https://localhost:8080/",
     "height": 537
    },
    "id": "2ONGCB12arnD",
    "outputId": "c5102676-4372-441d-fff2-4a48d13ff1d1"
   },
   "outputs": [
    {
     "name": "stdout",
     "output_type": "stream",
     "text": [
      "epoch = 0 (lr=0.1): C = 0.08334  A = 97.38%\n",
      "epoch = 1 (lr=0.09): C = 0.04870  A = 98.45%\n",
      "epoch = 2 (lr=0.081): C = 0.02903  A = 99.08%\n",
      "epoch = 3 (lr=0.073): C = 0.02099  A = 99.32%\n",
      "epoch = 4 (lr=0.066): C = 0.01498  A = 99.57%\n",
      "epoch = 5 (lr=0.059): C = 0.00633  A = 99.84%\n",
      "epoch = 6 (lr=0.053): C = 0.00277  A = 99.96%\n",
      "epoch = 7 (lr=0.048): C = 0.00121  A = 99.99%\n",
      "epoch = 8 (lr=0.043): C = 0.00082  A = 99.99%\n",
      "epoch = 9 (lr=0.039): C = 0.00067  A = 100.00%\n",
      "epoch = 10 (lr=0.035): C = 0.00054  A = 100.00%\n",
      "epoch = 11 (lr=0.031): C = 0.00047  A = 100.00%\n",
      "test accuracy = 98.63%\n"
     ]
    },
    {
     "data": {
      "text/plain": [
       "<matplotlib.legend.Legend at 0x7fd5c9327dd0>"
      ]
     },
     "execution_count": 28,
     "metadata": {},
     "output_type": "execute_result"
    },
    {
     "data": {
      "image/png": "[encoded data removed]",
      "text/plain": [
       "<Figure size 432x288 with 2 Axes>"
      ]
     },
     "metadata": {
      "needs_background": "light"
     },
     "output_type": "display_data"
    }
   ],
   "source": [
    "import matplotlib.pyplot as plt\n",
    "\n",
    "mlp = myMLP2(struct=[500,250], debug=1, max_epochs=12, annealing=0.9, batch_size=10,lr=0.1)\n",
    "\n",
    "A, C = mlp.fit(X_train, Y_train)\n",
    "\n",
    "result = mlp.predict(X_test)\n",
    "\n",
    "test_acc =  100.0*jnp.count_nonzero(jnp.equal(result, y_test))/y_test.size\n",
    "print(f'test accuracy = {test_acc:.2f}%')\n",
    "\n",
    "fig, ax = plt.subplots(2)\n",
    "fig.suptitle('monitoring three learning curves (A, C)')\n",
    "ax[0].plot(C, 'b')\n",
    "ax[0].legend(['curve C'])\n",
    "\n",
    "ax[1].plot(A, 'r')\n",
    "ax[1].legend(['curve A'])"
   ]
  },
  {
   "cell_type": "code",
   "execution_count": 35,
   "metadata": {
    "colab": {
     "base_uri": "https://localhost:8080/"
    },
    "id": "Hs8C2Ck4QZkH",
    "outputId": "583bcaea-894d-4cea-da5e-8073497c55ef"
   },
   "outputs": [
    {
     "name": "stdout",
     "output_type": "stream",
     "text": [
      "Thu Jan 27 23:00:45 2022       \n",
      "+-----------------------------------------------------------------------------+\n",
      "| NVIDIA-SMI 495.46       Driver Version: 460.32.03    CUDA Version: 11.2     |\n",
      "|-------------------------------+----------------------+----------------------+\n",
      "| GPU  Name        Persistence-M| Bus-Id        Disp.A | Volatile Uncorr. ECC |\n",
      "| Fan  Temp  Perf  Pwr:Usage/Cap|         Memory-Usage | GPU-Util  Compute M. |\n",
      "|                               |                      |               MIG M. |\n",
      "|===============================+======================+======================|\n",
      "|   0  Tesla P100-PCIE...  Off  | 00000000:00:04.0 Off |                    0 |\n",
      "| N/A   39C    P0    33W / 250W |  14771MiB / 16280MiB |      0%      Default |\n",
      "|                               |                      |                  N/A |\n",
      "+-------------------------------+----------------------+----------------------+\n",
      "                                                                               \n",
      "+-----------------------------------------------------------------------------+\n",
      "| Processes:                                                                  |\n",
      "|  GPU   GI   CI        PID   Type   Process name                  GPU Memory |\n",
      "|        ID   ID                                                   Usage      |\n",
      "|=============================================================================|\n",
      "|  No running processes found                                                 |\n",
      "+-----------------------------------------------------------------------------+\n"
     ]
    }
   ],
   "source": [
    "# show the GPU type used in the above computation\n",
    "\n",
    "!nvidia-smi"
   ]
  },
  {
   "cell_type": "markdown",
   "metadata": {
    "id": "hmDazwabZlTb"
   },
   "source": [
    "### **Example 5.4:**\n",
    "\n",
    "*Re-implement the above fully connected neural networks using JAX and its automatic differenttiation function jax.grad() so that you do not need to explicitly implement error back-propagation on your own. Compare this implementation with those in the previous examples and discuss the advantages to use automatic differentiation in implementing machine learning models.* "
   ]
  },
  {
   "cell_type": "markdown",
   "metadata": {
    "id": "KEdsj_Hw6DO-"
   },
   "source": [
    "Automatic differetiation is a convenient approach to implement many machine learning methods because it can ease us from lots of tedious derivations and implementations related to how to compute gradients for the models. In this case, we only need to specify the forward pass based on the model structure and then define an objective function according to the forward pass and a loss function. After that, we can use automatic differetiation, e.g. [*jax.grad()*](https://jax.readthedocs.io/en/latest/jax.html#jax.grad), to automatically compute the gradients w.r.t. model parameters, and directly run any gradient descent optimization method to update the model with the automatically derived gradients. "
   ]
  },
  {
   "cell_type": "code",
   "execution_count": 39,
   "metadata": {
    "id": "08PQI-MfaoT1"
   },
   "outputs": [],
   "source": [
    "# implement fully-connected neural networks using JAX and jax.grad()\n",
    "import numpy as np\n",
    "import jax.numpy as jnp\n",
    "import jax.nn as jnn\n",
    "from jax import grad, random, device_put\n",
    "\n",
    "class myMLP3():\n",
    "  def __init__(self, optimizer='sgd', debug=0, struct=[], activation='relu',\\\n",
    "               loss='ce', lr=1.0, max_epochs=10, batch_size=10, random_state=1,\\\n",
    "               init_range=1.0, annealing=1.0):\n",
    "    self.optimizer = optimizer     # which optimizer is used to learn\n",
    "    self.lr = lr                   # initial learning rate in SGD\n",
    "    self.annealing = annealing     # annealing rate in SGD\n",
    "    self.max_epochs = max_epochs   # max epochs in optimization \n",
    "    self.batch_size = batch_size   # mini-batch size in SGD\n",
    "    self.debug = debug             # whether print debugging info\n",
    "    self.activation=activation     # activation function \n",
    "    self.loss = loss               # the loss used for training objective \n",
    "    self.random_state=random_state # random state\n",
    "    self.init_range=init_range     # range for initializing weights \n",
    "\n",
    "    self.struct = struct           # network structure: e.g. [100], [500, 200], \n",
    "                                   #                         [100,100,100]\n",
    " \n",
    "  # initialize internal struct/variables for input/output \n",
    "  # X[N,d]: input features; Y[N,K]: 1-of-K one-hot vectors for output targets \n",
    "  def initialization(self, X, Y):\n",
    "    key = random.PRNGKey(self.random_state)\n",
    "\n",
    "    input = X.shape[1]                # input dimension \n",
    "    self.layers = len(self.struct)    # number of hidden layers \n",
    "    self.W_b = [0]*(self.layers+1)    # list for all weight matrices\n",
    "\n",
    "    # create weight matrices for all hidden layers \n",
    "    for l in range(self.layers):  \n",
    "      output = self.struct[l]\n",
    "      self.W_b[l] = device_put(4.90*(random.uniform(key,(input+1, output))-0.5)*self.init_range/jnp.sqrt(output+input))\n",
    "      input = output \n",
    "\n",
    "    # create weight matrix for output layer\n",
    "    output = Y.shape[1]\n",
    "    self.W_b[self.layers] = device_put(4.90*(random.uniform(key,(input+1, output))-0.5)*self.init_range/jnp.sqrt(output+input))\n",
    "\n",
    "    return\n",
    "\n",
    "  # forward pass to compute outputs for a mini-batch X\n",
    "  # (refer to the box on page 166)\n",
    "  # input  =>  X[B,d]: a batch of input vectors\n",
    "  # return =>  y[B,K]\n",
    "  def forward(self, W_b, X):\n",
    "\n",
    "    # appending 1's to accomodate bias (see page 107)\n",
    "    Z = jnp.hstack((X,jnp.ones((X.shape[0],1),dtype=X.dtype)))\n",
    "\n",
    "    # forward pass from all hidden layers\n",
    "    for l in range(self.layers): \n",
    "      Z = jnn.relu(Z @ W_b[l])\n",
    "      Z = jnp.hstack((Z,jnp.ones((Z.shape[0],1),dtype=Z.dtype)))\n",
    "\n",
    "    # forward pass for output layer\n",
    "    l = self.layers\n",
    "    y = jnn.softmax(Z @ W_b[l], axis=1)\n",
    "    \n",
    "    return y\n",
    "\n",
    "  # compute the CE loss for a mini-batch\n",
    "  # W_b[ ]: list for all weight matrices\n",
    "  # X[B,d]: input features; \n",
    "  # Y[B,K]: 1-of-K one-hot vectors for output targets\n",
    "  def loss_ce_batch(self, W_b, X, Y):\n",
    "    R = self.forward(W_b, X)\n",
    "\n",
    "    return -jnp.mean(jnp.log(R[Y==1]))\n",
    "\n",
    "  # use minibatch SGD to optimize (refer to Algorithm 8.8 on page 189)\n",
    "  # X[N,d]: input features; Y[N,K]: 1-of-K one-hot vectors for output targets\n",
    "  def sgd(self, X, Y):\n",
    "    n = X.shape[0]      # number of samples\n",
    "\n",
    "    lr = self.lr\n",
    "    errorsA = np.zeros(self.max_epochs)\n",
    "    #errorsB = np.zeros(self.max_epochs)\n",
    "    errorsC = np.zeros(self.max_epochs)\n",
    "\n",
    "    for epoch in range(self.max_epochs):\n",
    "      indices = np.random.permutation(n)  #randomly shuffle data indices\n",
    "      for batch_start in range(0, n, self.batch_size):\n",
    "        X_batch = X[indices[batch_start:batch_start + self.batch_size]]\n",
    "        Y_batch = Y[indices[batch_start:batch_start + self.batch_size]]\n",
    "\n",
    "        W_b_grad = grad(self.loss_ce_batch)(self.W_b, X_batch, Y_batch)\n",
    "\n",
    "        for l in range(self.layers+1):\n",
    "          self.W_b[l] -= lr * W_b_grad[l]\n",
    "\n",
    "      # plot all learning curves (A, B, C)\n",
    "      errorsC[epoch] = self.loss_ce_batch(self.W_b, X, Y)\n",
    "\n",
    "      Z = self.forward(self.W_b, X)\n",
    "      train_label = np.argmax(Y, axis=1)\n",
    "      train_res = np.argmax(Z, axis=1)\n",
    "      errorsA[epoch] = np.count_nonzero(np.equal(train_res,train_label))/train_label.size\n",
    "\n",
    "      if(self.debug):\n",
    "        print(f'epoch = {epoch} (lr={lr:.2}): C = {errorsC[epoch]:.5f}  A = {100*errorsA[epoch]:.2f}%')\n",
    "\n",
    "      lr *= self.annealing\n",
    "\n",
    "    return errorsA, errorsC\n",
    "\n",
    "   # X[N,d]: input features; Y[N,K]: 1-of-K one-hot vectors for output targets         \n",
    "  def fit(self, X, Y):\n",
    "    # initialize all weight matrices \n",
    "    self.initialization(X, Y)\n",
    "\n",
    "    X2 = device_put(X)\n",
    "    Y2 = device_put(Y)\n",
    "\n",
    "    errorsA, errorsC = self.sgd(X2, Y2)\n",
    "\n",
    "    return errorsA, errorsC\n",
    "\n",
    "  # X[N,d]: input features;\n",
    "  # return: labels \n",
    "  def predict(self, X):\n",
    "    X2 = device_put(X)\n",
    "    Y = self.forward(self.W_b, X2)\n",
    "    return jnp.argmax(Y, axis=1)\n",
    "    "
   ]
  },
  {
   "cell_type": "code",
   "execution_count": 40,
   "metadata": {
    "colab": {
     "base_uri": "https://localhost:8080/",
     "height": 676
    },
    "id": "-Wdtuo-QpkxV",
    "outputId": "1a689084-c405-457e-a7cf-eb64ded8a604"
   },
   "outputs": [
    {
     "name": "stdout",
     "output_type": "stream",
     "text": [
      "epoch = 0 (lr=0.1): C = 0.13940  A = 96.02%\n",
      "epoch = 1 (lr=0.098): C = 0.07718  A = 97.72%\n",
      "epoch = 2 (lr=0.096): C = 0.05403  A = 98.47%\n",
      "epoch = 3 (lr=0.094): C = 0.03995  A = 98.85%\n",
      "epoch = 4 (lr=0.092): C = 0.03374  A = 99.07%\n",
      "epoch = 5 (lr=0.09): C = 0.02314  A = 99.43%\n",
      "epoch = 6 (lr=0.089): C = 0.01664  A = 99.61%\n",
      "epoch = 7 (lr=0.087): C = 0.01406  A = 99.72%\n",
      "epoch = 8 (lr=0.085): C = 0.00961  A = 99.89%\n",
      "epoch = 9 (lr=0.083): C = 0.00910  A = 99.85%\n",
      "epoch = 10 (lr=0.082): C = 0.00600  A = 99.94%\n",
      "epoch = 11 (lr=0.08): C = 0.00432  A = 99.97%\n",
      "epoch = 12 (lr=0.078): C = 0.00564  A = 99.93%\n",
      "epoch = 13 (lr=0.077): C = 0.00327  A = 99.98%\n",
      "epoch = 14 (lr=0.075): C = 0.00328  A = 99.98%\n",
      "epoch = 15 (lr=0.074): C = 0.00249  A = 99.99%\n",
      "epoch = 16 (lr=0.072): C = 0.00201  A = 100.00%\n",
      "epoch = 17 (lr=0.071): C = 0.00175  A = 100.00%\n",
      "epoch = 18 (lr=0.07): C = 0.00160  A = 100.00%\n",
      "epoch = 19 (lr=0.068): C = 0.00145  A = 100.00%\n",
      "test accuracy = 98.30%\n"
     ]
    },
    {
     "data": {
      "text/plain": [
       "<matplotlib.legend.Legend at 0x7fd9c6440810>"
      ]
     },
     "execution_count": 40,
     "metadata": {},
     "output_type": "execute_result"
    },
    {
     "data": {
      "image/png": "[encoded data removed]",
      "text/plain": [
       "<Figure size 432x288 with 2 Axes>"
      ]
     },
     "metadata": {
      "needs_background": "light"
     },
     "output_type": "display_data"
    }
   ],
   "source": [
    "import jax.numpy as jnp\n",
    "\n",
    "mlp = myMLP3(struct=[500,250], debug=1, max_epochs=20, annealing=0.98, batch_size=50,lr=0.1)\n",
    "\n",
    "A, C = mlp.fit(X_train, Y_train)\n",
    "\n",
    "result = mlp.predict(X_test)\n",
    "\n",
    "test_acc =  100.0*jnp.count_nonzero(jnp.equal(result, y_test))/y_test.size\n",
    "print(f'test accuracy = {test_acc:.2f}%')\n",
    "\n",
    "fig, ax = plt.subplots(2)\n",
    "fig.suptitle('monitoring three learning curves (A, C)')\n",
    "ax[0].plot(C, 'b')\n",
    "ax[0].legend(['curve C'])\n",
    "\n",
    "ax[1].plot(A, 'r')\n",
    "ax[1].legend(['curve A'])"
   ]
  },
  {
   "cell_type": "markdown",
   "metadata": {
    "id": "uQjMIubFKr4a"
   },
   "source": [
    "In the following, we compare the total running times  (of 3 training epochs) among all three implementaions. As we can see, the JAX implemetation in Example 5.3 (running in GPUs) yields the fastest speed while the JAX autograd implementation in Example 5.4 (running in GPUs) is about twice slower (58.2 sec vs. 28.8 sec). On the other hand, the numpy implementation in Example 5.2 (running in CPUs) takes much longer time than those of JAX codes, about 10 times slower than the JAX implementation in Example 5.3 (running in GPUs), whose running times are measured as 293 sec vs. 28.8 sec. "
   ]
  },
  {
   "cell_type": "code",
   "execution_count": null,
   "metadata": {
    "colab": {
     "background_save": true,
     "base_uri": "https://localhost:8080/"
    },
    "id": "0ddVQpCpZAs_",
    "outputId": "49ca9487-b91a-4c0a-cde7-b8e04afae542"
   },
   "outputs": [
    {
     "name": "stdout",
     "output_type": "stream",
     "text": [
      "numpy implementation running on CPUs\n",
      "1 loop, best of 5: 4min 53s per loop\n",
      "1 loop, best of 5: 333 ms per loop\n",
      "test accuracy = 96.46%\n",
      "JAX implementation running on GPUs\n",
      "1 loop, best of 5: 28.8 s per loop\n",
      "100 loops, best of 5: 17.2 ms per loop\n",
      "test accuracy = 96.82%\n",
      "JAX auto-grad implementation running on GPUs\n",
      "1 loop, best of 5: 58.2 s per loop\n",
      "100 loops, best of 5: 17.5 ms per loop\n",
      "test accuracy = 96.83%\n"
     ]
    }
   ],
   "source": [
    "# Measure and compare running times for all three different implementations \n",
    "\n",
    "print('numpy implementation running on CPUs') \n",
    "\n",
    "mlp = myMLP1(struct=[500,250], debug=0, max_epochs=3, annealing=0.99, batch_size=100,lr=0.1)\n",
    "\n",
    "%timeit errorsA, errorsC = mlp.fit(X_train, Y_train)\n",
    "\n",
    "%timeit result = mlp.predict(X_test)\n",
    "result = mlp.predict(X_test)\n",
    "test_acc =  100.0*jnp.count_nonzero(jnp.equal(result, y_test))/y_test.size\n",
    "print(f'test accuracy = {test_acc:.2f}%')\n",
    "\n",
    "print('JAX implementation running on GPUs') \n",
    "\n",
    "mlp = myMLP2(struct=[500,250], debug=0, max_epochs=3, annealing=0.99, batch_size=100,lr=0.1)\n",
    "\n",
    "%timeit errorsA, errorsC = mlp.fit(X_train, Y_train)\n",
    "\n",
    "%timeit result = mlp.predict(X_test)\n",
    "result = mlp.predict(X_test)\n",
    "test_acc =  100.0*jnp.count_nonzero(jnp.equal(result, y_test))/y_test.size\n",
    "print(f'test accuracy = {test_acc:.2f}%')\n",
    "\n",
    "print('JAX auto-grad implementation running on GPUs') \n",
    "\n",
    "mlp = myMLP3(struct=[500,250], debug=0, max_epochs=3, annealing=0.99, batch_size=100,lr=0.1)\n",
    "\n",
    "%timeit errorsA, errorsC = mlp.fit(X_train, Y_train)\n",
    "\n",
    "%timeit result = mlp.predict(X_test)\n",
    "result = mlp.predict(X_test)\n",
    "test_acc =  100.0*jnp.count_nonzero(jnp.equal(result, y_test))/y_test.size\n",
    "print(f'test accuracy = {test_acc:.2f}%')\n"
   ]
  },
  {
   "cell_type": "markdown",
   "metadata": {
    "id": "ee6_NeOtgxYc"
   },
   "source": [
    "## **Exercises**"
   ]
  },
  {
   "cell_type": "markdown",
   "metadata": {
    "id": "OuW5V0iRg3ef"
   },
   "source": [
    "### **Problem 5.1:**\n",
    "\n",
    "Use automatic differentiation in *JAX*, i.e. *jax.grad()*, to re-implement logistic regression in Example 3.1, and then compare it with the *numpy* implementation in Example 3.1 in terms of classification accuracy and running speed. "
   ]
  },
  {
   "cell_type": "markdown",
   "metadata": {
    "id": "mxWbZQ--9SWd"
   },
   "source": [
    "### **Problem 5.2:**\n",
    "\n",
    "Use automatic differentiation in *JAX* to implement FCNNs for the *autoencoder* in Figure 4.15 on page 90. Use all training images in MNIST to train the autoencoder and then use its encoder part to extract features for two digits ('3' and '8') in MNIST. Use the extracted features in the training set to train a logistic regression model as in Problem 5.1 and evaluate classification accuracy using all digits '3' and '8' in the test set. Fine-tune the autoencoder structure towards the best possible classification accuracy between '3' and '8'. "
   ]
  },
  {
   "cell_type": "markdown",
   "metadata": {
    "id": "ItGUEqdU_C3w"
   },
   "source": [
    "### **Problem 5.3:**\n",
    "\n",
    "Use JAX automatic differentiation to implement FCNNs for the *bottleneck (BN) features* in Figure 4.16 on page 91. Use all training images in MNIST along with their labels to train the BN model and then use its encoder part to extract features for two digits ('3' and '8') in MNIST. Use the extracted features from the training set to train a logistic regression model as in Problem 5.1 and evaluate classification accuracy using digits '3' and '8' from the test set. Fine-tune the BN model structure towards the best possible classification accuracy between '3' and '8'. Compare the performance of *BN* features with that of autoencoder in Problem 5.2 and discuss the possible reason for the performance gap. "
   ]
  },
  {
   "cell_type": "markdown",
   "metadata": {
    "id": "0tO22jjlGD2n"
   },
   "source": [
    "### **Problem 5.4:**\n",
    "\n",
    "Expand the FCNN implementation in Example 5.3 (or Example 5.4) by adding the *ADAM* optimzer in Algorithm 8.9 (on page 192) as another optimizer option for FCNNs. Compare ADAM with SGD in terms of the convergence behavior and classification accuracy."
   ]
  }
 ],
 "metadata": {
  "accelerator": "GPU",
  "colab": {
   "collapsed_sections": [],
   "name": "Lab5_Fully_Connected_Neural_Networks.ipynb",
   "provenance": []
  },
  "kernelspec": {
   "display_name": "Python 3",
   "language": "python",
   "name": "python3"
  },
  "language_info": {
   "codemirror_mode": {
    "name": "ipython",
    "version": 3
   },
   "file_extension": ".py",
   "mimetype": "text/x-python",
   "name": "python",
   "nbconvert_exporter": "python",
   "pygments_lexer": "ipython3",
   "version": "3.7.0"
  }
 },
 "nbformat": 4,
 "nbformat_minor": 4
}
